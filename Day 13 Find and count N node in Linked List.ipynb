{
 "cells": [
  {
   "cell_type": "code",
   "execution_count": 1,
   "metadata": {},
   "outputs": [],
   "source": [
    "class node:\n",
    "    def __init__(self,val=None,Next=None):\n",
    "        self.data=val\n",
    "        self.next=Next\n",
    "    def printl(self):\n",
    "        temp=self\n",
    "        while temp is not None:\n",
    "            print(temp.data,end=\"->\")\n",
    "            temp=temp.next"
   ]
  },
  {
   "cell_type": "code",
   "execution_count": 2,
   "metadata": {},
   "outputs": [],
   "source": [
    "def push(head_ref,new_node):\n",
    "    head_ref=node(new_node,head_ref)\n",
    "    return head_ref"
   ]
  },
  {
   "cell_type": "code",
   "execution_count": 3,
   "metadata": {},
   "outputs": [
    {
     "name": "stdout",
     "output_type": "stream",
     "text": [
      "0->1->2->3->4->5->6->7->8->"
     ]
    }
   ],
   "source": [
    "head=None\n",
    "for i in range(9)[::-1]:\n",
    "    head=push(head,i)\n",
    "head.printl()"
   ]
  },
  {
   "cell_type": "markdown",
   "metadata": {},
   "source": [
    "## Find the Nth node"
   ]
  },
  {
   "cell_type": "code",
   "execution_count": 27,
   "metadata": {},
   "outputs": [],
   "source": [
    "def NNode(head_ref,n):\n",
    "    counter=1\n",
    "    temp=head_ref\n",
    "    while temp is not None:\n",
    "        if(counter==n):\n",
    "            return temp.data\n",
    "        counter+=1\n",
    "        temp=temp.next"
   ]
  },
  {
   "cell_type": "code",
   "execution_count": 29,
   "metadata": {},
   "outputs": [
    {
     "name": "stdout",
     "output_type": "stream",
     "text": [
      "0->1->2->3->4->5->6->7->8->"
     ]
    },
    {
     "data": {
      "text/plain": [
       "3"
      ]
     },
     "execution_count": 29,
     "metadata": {},
     "output_type": "execute_result"
    }
   ],
   "source": [
    "head.printl()\n",
    "x=NNode(head,4)\n",
    "x"
   ]
  },
  {
   "cell_type": "markdown",
   "metadata": {},
   "source": [
    "## Counts the number of times a given int occurs in a Linked List"
   ]
  },
  {
   "cell_type": "markdown",
   "metadata": {},
   "source": [
    "### Without Recursion"
   ]
  },
  {
   "cell_type": "code",
   "execution_count": 35,
   "metadata": {},
   "outputs": [],
   "source": [
    "def countN(head_ref,N):\n",
    "    count=0\n",
    "    temp=head_ref\n",
    "    while temp is not None:\n",
    "        if temp.data==N:\n",
    "            count+=1\n",
    "        temp=temp.next\n",
    "    return count"
   ]
  },
  {
   "cell_type": "code",
   "execution_count": 36,
   "metadata": {},
   "outputs": [
    {
     "name": "stdout",
     "output_type": "stream",
     "text": [
      "3->1->1->2->1->3->1->1->2->1->3->1->1->2->1->"
     ]
    }
   ],
   "source": [
    "head1=None\n",
    "l=[1,2,1,1,3]*3\n",
    "for i in l:\n",
    "    head1=push(head1,i)\n",
    "head1.printl()"
   ]
  },
  {
   "cell_type": "code",
   "execution_count": 37,
   "metadata": {},
   "outputs": [
    {
     "name": "stdout",
     "output_type": "stream",
     "text": [
      "9\n",
      "3\n"
     ]
    }
   ],
   "source": [
    "c=countN(head1,1)\n",
    "print(c)\n",
    "c1=countN(head1,3)\n",
    "print(c1)"
   ]
  },
  {
   "cell_type": "markdown",
   "metadata": {},
   "source": [
    "### With recursion"
   ]
  },
  {
   "cell_type": "code",
   "execution_count": 47,
   "metadata": {},
   "outputs": [],
   "source": [
    "def countR(head,N,c=0):\n",
    "    if head==None:\n",
    "        return c\n",
    "    if head.data==N:\n",
    "        c+=1\n",
    "    return countR(head.next,N,c)"
   ]
  },
  {
   "cell_type": "code",
   "execution_count": 52,
   "metadata": {},
   "outputs": [
    {
     "name": "stdout",
     "output_type": "stream",
     "text": [
      "Linked List:\n",
      "3->1->1->2->1->3->1->1->2->1->3->1->1->2->1->"
     ]
    }
   ],
   "source": [
    "print(\"Linked List:\")\n",
    "head1.printl()"
   ]
  },
  {
   "cell_type": "code",
   "execution_count": 53,
   "metadata": {},
   "outputs": [
    {
     "name": "stdout",
     "output_type": "stream",
     "text": [
      "9\n",
      "3\n"
     ]
    }
   ],
   "source": [
    "c3=countR(head1,1)\n",
    "print(c3)\n",
    "c4=countR(head1,2)\n",
    "print(c4)"
   ]
  },
  {
   "cell_type": "code",
   "execution_count": null,
   "metadata": {},
   "outputs": [],
   "source": []
  }
 ],
 "metadata": {
  "kernelspec": {
   "display_name": "Python 3",
   "language": "python",
   "name": "python3"
  },
  "language_info": {
   "codemirror_mode": {
    "name": "ipython",
    "version": 3
   },
   "file_extension": ".py",
   "mimetype": "text/x-python",
   "name": "python",
   "nbconvert_exporter": "python",
   "pygments_lexer": "ipython3",
   "version": "3.7.3"
  }
 },
 "nbformat": 4,
 "nbformat_minor": 2
}
