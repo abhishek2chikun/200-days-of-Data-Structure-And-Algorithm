{
 "cells": [
  {
   "cell_type": "markdown",
   "metadata": {},
   "source": [
    "# Python Numpy Array\n",
    "NumPy array is a central data structure of the numpy library. The library’s name is short for “Numeric Python” or “Numerical Python”.\n",
    "Reading and writing elements in a NumPy array is faster, and they support \"vectorized\" operations such as elementwise addition."
   ]
  },
  {
   "cell_type": "markdown",
   "metadata": {},
   "source": [
    "## Create a Array"
   ]
  },
  {
   "cell_type": "code",
   "execution_count": 1,
   "metadata": {},
   "outputs": [
    {
     "name": "stdout",
     "output_type": "stream",
     "text": [
      "[[1 2 3 4]\n",
      " [5 6 7 8]]\n"
     ]
    }
   ],
   "source": [
    "import numpy as np\n",
    "arr = np.array([[1,2,3,4], [5,6,7,8]],int)\n",
    "print(arr)"
   ]
  },
  {
   "cell_type": "markdown",
   "metadata": {},
   "source": [
    "## Inspect Your NumPy Arrays"
   ]
  },
  {
   "cell_type": "code",
   "execution_count": 2,
   "metadata": {},
   "outputs": [
    {
     "name": "stdout",
     "output_type": "stream",
     "text": [
      "Dimension: 2\n",
      "No. of elements: 8\n",
      "Length of one array 4\n",
      "length 2\n"
     ]
    },
    {
     "data": {
      "text/plain": [
       "array([[1., 2., 3., 4.],\n",
       "       [5., 6., 7., 8.]])"
      ]
     },
     "execution_count": 2,
     "metadata": {},
     "output_type": "execute_result"
    }
   ],
   "source": [
    "# Print the number of `arr`'s dimensions\n",
    "print(\"Dimension:\",arr.ndim)\n",
    "\n",
    "# Print the number of `arr`'s elements\n",
    "print(\"No. of elements:\",arr.size)\n",
    "\n",
    "# Print the length of one array element in bytes\n",
    "print(\"Length of one array\",arr.itemsize)\n",
    "\n",
    "# Print the length of `my_array`\n",
    "print(\"length\",len(arr))\n",
    "\n",
    "# Change the data type of `my_array`\n",
    "arr.astype(float)"
   ]
  },
  {
   "cell_type": "markdown",
   "metadata": {},
   "source": [
    "## Arithmetic operations on array"
   ]
  },
  {
   "cell_type": "code",
   "execution_count": 3,
   "metadata": {},
   "outputs": [
    {
     "name": "stdout",
     "output_type": "stream",
     "text": [
      "Add `x` and `y`\n",
      "[[ 6  8 10 12]\n",
      " [ 6  8 10 12]]\n",
      "Subtract `x` and `y`\n",
      "[[-4 -4 -4 -4]\n",
      " [ 4  4  4  4]]\n",
      "Multiply `x` and `y`\n",
      "[[ 5 12 21 32]\n",
      " [ 5 12 21 32]]\n",
      "Divide `x` and `y\n",
      "[[0.2        0.33333333 0.42857143 0.5       ]\n",
      " [5.         3.         2.33333333 2.        ]]\n",
      "Calculate the remainder of `x` and `y`\n",
      "[[1 2 3 4]\n",
      " [0 0 1 0]]\n"
     ]
    }
   ],
   "source": [
    "x = np.array([[1,2,3,4], [5,6,7,8]],int)\n",
    "y = np.array([[5,6,7,8], [1,2,3,4]],int)\n",
    "print(\"Add `x` and `y`\")\n",
    "print(np.add(x,y))\n",
    "\n",
    "print(\"Subtract `x` and `y`\")\n",
    "print(np.subtract(x,y))\n",
    "\n",
    "print(\"Multiply `x` and `y`\")\n",
    "print(np.multiply(x,y))\n",
    "\n",
    "print(\"Divide `x` and `y\")\n",
    "print(np.divide(x,y))\n",
    "\n",
    "print(\"Calculate the remainder of `x` and `y`\")\n",
    "print(np.remainder(x,y))"
   ]
  },
  {
   "cell_type": "markdown",
   "metadata": {},
   "source": [
    "## Some functions of Numpy Array"
   ]
  },
  {
   "cell_type": "code",
   "execution_count": 4,
   "metadata": {},
   "outputs": [
    {
     "name": "stdout",
     "output_type": "stream",
     "text": [
      "Create an array of ones\n",
      "\n",
      "[[1. 1. 1. 1.]\n",
      " [1. 1. 1. 1.]\n",
      " [1. 1. 1. 1.]]\n",
      "\n",
      "Create an array of zeros\n",
      "\n",
      "[[[0 0 0 0]\n",
      "  [0 0 0 0]\n",
      "  [0 0 0 0]]\n",
      "\n",
      " [[0 0 0 0]\n",
      "  [0 0 0 0]\n",
      "  [0 0 0 0]]]\n",
      "\n",
      "Create an array with random values\n",
      "\n",
      "[[0.32404168 0.42455725]\n",
      " [0.83420817 0.89580764]]\n",
      "\n",
      "Create an empty array\n",
      "\n",
      "[[0. 0.]\n",
      " [0. 0.]\n",
      " [0. 0.]]\n",
      "\n",
      "Create a full array\n",
      "\n",
      "[[7 7]\n",
      " [7 7]]\n",
      "\n",
      "Create an array of evenly-spaced values\n",
      "\n",
      "[10 15 20]\n",
      "\n",
      "Create an array of evenly-spaced values using linspace\n",
      "\n",
      "[0.   0.25 0.5  0.75 1.   1.25 1.5  1.75 2.  ]\n"
     ]
    }
   ],
   "source": [
    "print(\"Create an array of ones\\n\")\n",
    "print(np.ones((3,4)))\n",
    "\n",
    "print(\"\\nCreate an array of zeros\\n\")\n",
    "print(np.zeros((2,3,4),dtype=np.int16))\n",
    "\n",
    "print(\"\\nCreate an array with random values\\n\")\n",
    "print(np.random.random((2,2)))\n",
    "\n",
    "print(\"\\nCreate an empty array\\n\")\n",
    "print(np.empty((3,2)))\n",
    "\n",
    "print(\"\\nCreate a full array\\n\")\n",
    "print(np.full((2,2),7))\n",
    "\n",
    "print(\"\\nCreate an array of evenly-spaced values\\n\")\n",
    "print(np.arange(10,25,5))\n",
    "\n",
    "print(\"\\nCreate an array of evenly-spaced values using linspace\\n\")\n",
    "print(np.linspace(0,2,9))"
   ]
  },
  {
   "cell_type": "markdown",
   "metadata": {},
   "source": [
    "## Problem-\n"
   ]
  },
  {
   "cell_type": "markdown",
   "metadata": {},
   "source": [
    "### 1.Divisible Sum Pairs"
   ]
  },
  {
   "cell_type": "markdown",
   "metadata": {},
   "source": [
    "You are given an array of N integers ar=(ar[0],ar[1],...,ar[n-1]) and a positive integer K. Find and print the number of (i,j) pairs where i<j and ar[i]+ar[j] is divisible by K ."
   ]
  },
  {
   "cell_type": "code",
   "execution_count": 5,
   "metadata": {},
   "outputs": [
    {
     "name": "stdout",
     "output_type": "stream",
     "text": [
      "Enter n and k:6 3\n",
      "Enter numbers:1\n",
      "Enter numbers:2\n",
      "Enter numbers:2\n",
      "Enter numbers:6\n",
      "Enter numbers:3\n",
      "Enter numbers:4\n",
      "Pair are:\n",
      "a[ 0 ] + b[ 1 ]= [1] + [2] = [3]\n",
      "a[ 0 ] + b[ 2 ]= [1] + [2] = [3]\n",
      "a[ 1 ] + b[ 5 ]= [2] + [4] = [6]\n",
      "a[ 2 ] + b[ 5 ]= [2] + [4] = [6]\n",
      "a[ 3 ] + b[ 4 ]= [6] + [3] = [9]\n",
      "NO. of pairs: 5\n"
     ]
    }
   ],
   "source": [
    "import numpy as np\n",
    "n,k=map(int,input(\"Enter n and k:\").split())\n",
    "a=np.array([input(\"Enter numbers:\").split() for _ in range(n)],int)\n",
    "c,j=0,0\n",
    "print(\"Pair are:\")\n",
    "for i in range(len(a)):\n",
    "    j=1+i\n",
    "    while j<n:\n",
    "        if (a[i]+a[j])%k==0:\n",
    "            print(\"a[\",i,\"] +\",\"b[\",j,\"]=\",a[i],\"+\",a[j],\"=\",a[i]+a[j])#just for ease understanding through output\n",
    "            c=c+1\n",
    "        j+=1\n",
    "print(\"NO. of pairs:\",c)"
   ]
  },
  {
   "cell_type": "markdown",
   "metadata": {},
   "source": [
    "### 2. Convert a 1D array to a 2D array with 2 rows"
   ]
  },
  {
   "cell_type": "code",
   "execution_count": 6,
   "metadata": {},
   "outputs": [
    {
     "name": "stdout",
     "output_type": "stream",
     "text": [
      "1D array: [0 1 2 3 4 5 6 7 8 9]\n",
      "2D array:\n",
      " [[0 1 2 3 4]\n",
      " [5 6 7 8 9]]\n"
     ]
    }
   ],
   "source": [
    "arr = np.arange(10)\n",
    "print(\"1D array:\",arr)\n",
    "print(\"2D array:\\n\",arr.reshape(2, -1))"
   ]
  },
  {
   "cell_type": "markdown",
   "metadata": {},
   "source": [
    "### 3. Reverse the rows of a 2D array array"
   ]
  },
  {
   "cell_type": "code",
   "execution_count": 7,
   "metadata": {},
   "outputs": [
    {
     "name": "stdout",
     "output_type": "stream",
     "text": [
      "[[0 1 2]\n",
      " [3 4 5]\n",
      " [6 7 8]]\n",
      "\n",
      "Reverse\n",
      "\n",
      "[[6 7 8]\n",
      " [3 4 5]\n",
      " [0 1 2]]\n"
     ]
    }
   ],
   "source": [
    "arr = np.arange(9).reshape(3,3)\n",
    "print(arr)\n",
    "print(\"\\nReverse\\n\")\n",
    "print(arr[::-1])"
   ]
  },
  {
   "cell_type": "markdown",
   "metadata": {},
   "source": [
    "### 4.Transpose a matrix "
   ]
  },
  {
   "cell_type": "code",
   "execution_count": 9,
   "metadata": {},
   "outputs": [
    {
     "name": "stdout",
     "output_type": "stream",
     "text": [
      "[[1 2 3]\n",
      " [4 5 6]]\n",
      "\n",
      "\n",
      "[[1 4]\n",
      " [2 5]\n",
      " [3 6]]\n"
     ]
    }
   ],
   "source": [
    "matrix = np.array([[1,2,3],[4,5,6]]) \n",
    "print(matrix) \n",
    "print(\"\\n\") \n",
    "print(matrix.T)"
   ]
  },
  {
   "cell_type": "code",
   "execution_count": null,
   "metadata": {},
   "outputs": [],
   "source": []
  }
 ],
 "metadata": {
  "kernelspec": {
   "display_name": "Python 3",
   "language": "python",
   "name": "python3"
  },
  "language_info": {
   "codemirror_mode": {
    "name": "ipython",
    "version": 3
   },
   "file_extension": ".py",
   "mimetype": "text/x-python",
   "name": "python",
   "nbconvert_exporter": "python",
   "pygments_lexer": "ipython3",
   "version": "3.7.3"
  }
 },
 "nbformat": 4,
 "nbformat_minor": 2
}
