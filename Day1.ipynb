{
 "cells": [
  {
   "cell_type": "markdown",
   "metadata": {},
   "source": [
    "# Recursion\n"
   ]
  },
  {
   "cell_type": "code",
   "execution_count": 31,
   "metadata": {},
   "outputs": [
    {
     "name": "stdout",
     "output_type": "stream",
     "text": [
      "hello world 1\n",
      "hello world 2\n",
      "hello world 3\n",
      "hello world 4\n",
      "hello world 5\n"
     ]
    }
   ],
   "source": [
    "def Rec(x):\n",
    "    #base case\n",
    "    if x<1:\n",
    "        pass\n",
    "    else:\n",
    "        #recursion function call\n",
    "        Rec(x-1)\n",
    "        print(\"hello world\",x)\n",
    "Rec(5)"
   ]
  },
  {
   "cell_type": "markdown",
   "metadata": {},
   "source": [
    "## Factorial"
   ]
  },
  {
   "cell_type": "code",
   "execution_count": 20,
   "metadata": {},
   "outputs": [
    {
     "name": "stdout",
     "output_type": "stream",
     "text": [
      "120\n"
     ]
    }
   ],
   "source": [
    "def fact(x):\n",
    "    #base case\n",
    "    if x==0:\n",
    "        return 1\n",
    "    else:\n",
    "        #Recursion call\n",
    "        return(x*fact(x-1))\n",
    "print(fact(5))\n"
   ]
  },
  {
   "cell_type": "markdown",
   "metadata": {},
   "source": [
    "## Fibonacci"
   ]
  },
  {
   "cell_type": "code",
   "execution_count": 7,
   "metadata": {},
   "outputs": [
    {
     "name": "stdout",
     "output_type": "stream",
     "text": [
      "ENter the length of sequence:5\n",
      "0\n",
      "1\n",
      "1\n",
      "2\n",
      "3\n"
     ]
    }
   ],
   "source": [
    "def Fibo(x):\n",
    "    #base case\n",
    "    if x==2 or x==1:\n",
    "        return x-1\n",
    "    else:\n",
    "        #recursion call\n",
    "        return Fibo(x-1)+Fibo(x-2)\n",
    "n=int(input(\"ENter the length of sequence:\"))\n",
    "if n<1:\n",
    "    print(\"Error try another number\")\n",
    "for i in range(1,n+1):\n",
    "    print(Fibo(i))"
   ]
  },
  {
   "cell_type": "markdown",
   "metadata": {},
   "source": [
    "## Maximum number of 2×2 squares that can be fit inside a right isosceles triangle with base given\n"
   ]
  },
  {
   "cell_type": "code",
   "execution_count": 14,
   "metadata": {},
   "outputs": [
    {
     "name": "stdout",
     "output_type": "stream",
     "text": [
      "0\n",
      "0\n",
      "0\n",
      "1\n",
      "1\n",
      "3\n",
      "3\n",
      "6\n",
      "6\n"
     ]
    }
   ],
   "source": [
    "def Sqtri(base):\n",
    "    base=base-2\n",
    "    base=base//2\n",
    "    return int(base*(base+1)/2)\n",
    "for i in range(1,10):\n",
    "    print(Sqtri(i))"
   ]
  },
  {
   "cell_type": "markdown",
   "metadata": {},
   "source": [
    "## Recursive program to find the Sum of the series 1 – 1/2 + 1/3 – 1/4 … 1/N"
   ]
  },
  {
   "cell_type": "code",
   "execution_count": 21,
   "metadata": {},
   "outputs": [
    {
     "data": {
      "text/plain": [
       "0.08333333333333331"
      ]
     },
     "execution_count": 21,
     "metadata": {},
     "output_type": "execute_result"
    }
   ],
   "source": [
    "def SOS(i,n,s):\n",
    "    #base case\n",
    "    if i>n:\n",
    "        return s\n",
    "    else:\n",
    "        if 1%i==0:\n",
    "            s-=1/i\n",
    "        else:\n",
    "            s+=1/i\n",
    "        #recursion call\n",
    "        return SOS(i+1,n,s)\n",
    "SOS(1,4,0)\n",
    "        \n",
    "        "
   ]
  },
  {
   "cell_type": "markdown",
   "metadata": {},
   "source": [
    "## Recursive program to find GCD"
   ]
  },
  {
   "cell_type": "code",
   "execution_count": 27,
   "metadata": {},
   "outputs": [
    {
     "data": {
      "text/plain": [
       "4"
      ]
     },
     "execution_count": 27,
     "metadata": {},
     "output_type": "execute_result"
    }
   ],
   "source": [
    "def GCD(a,b):\n",
    "    if b==0:\n",
    "        return a\n",
    "    else:\n",
    "        return GCD(b,a%b)\n",
    "GCD(8,12)"
   ]
  },
  {
   "cell_type": "markdown",
   "metadata": {},
   "source": [
    "## Recursive program to find Sum Of Digit"
   ]
  },
  {
   "cell_type": "code",
   "execution_count": 30,
   "metadata": {},
   "outputs": [
    {
     "data": {
      "text/plain": [
       "10"
      ]
     },
     "execution_count": 30,
     "metadata": {},
     "output_type": "execute_result"
    }
   ],
   "source": [
    "def SOD(x):\n",
    "    if x==0:\n",
    "        return 0\n",
    "    else:\n",
    "        return int(x%10+SOD(x/10))\n",
    "SOD(1234)"
   ]
  },
  {
   "cell_type": "code",
   "execution_count": null,
   "metadata": {},
   "outputs": [],
   "source": []
  }
 ],
 "metadata": {
  "kernelspec": {
   "display_name": "Python 3",
   "language": "python",
   "name": "python3"
  },
  "language_info": {
   "codemirror_mode": {
    "name": "ipython",
    "version": 3
   },
   "file_extension": ".py",
   "mimetype": "text/x-python",
   "name": "python",
   "nbconvert_exporter": "python",
   "pygments_lexer": "ipython3",
   "version": "3.7.3"
  }
 },
 "nbformat": 4,
 "nbformat_minor": 2
}
