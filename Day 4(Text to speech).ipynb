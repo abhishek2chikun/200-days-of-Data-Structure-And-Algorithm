{
 "cells": [
  {
   "cell_type": "markdown",
   "metadata": {},
   "source": [
    "# Detect your text language and translate to any of your desire language and make a mp3 file of that language.\n",
    "Here I'm using Googletrans library and gTTS API.\n",
    "Google Translate API in order to detect languages and translate text.\n",
    "gTTS converts the text entered, into audio which can be saved as a mp3 file.\n"
   ]
  },
  {
   "cell_type": "code",
   "execution_count": 27,
   "metadata": {},
   "outputs": [],
   "source": [
    "from googletrans import Translator, constants\n",
    "from gtts import gTTS "
   ]
  },
  {
   "cell_type": "code",
   "execution_count": 28,
   "metadata": {},
   "outputs": [
    {
     "name": "stdout",
     "output_type": "stream",
     "text": [
      "Enter you text:hii how are you hope you are doing well\n",
      "Enter the language code to which you want the translate the text e.g.:- \n",
      "'hi': Hindi\n",
      "'es': Spanish\n",
      "'fr': French\n",
      "'gu': Gujarati\n",
      "'te': Telugu\n",
      "'kn': Kannada\n",
      "'en': English\n",
      "You want to translate your text to:hi\n",
      "\n",
      "Your Enter text Language code is: en\n",
      "Confidence: 100.0 %\n",
      "\n",
      "Your text after translation: hii आप कैसे हैं उम्मीद है कि आप अच्छा कर रहे हैं\n",
      "\n",
      "Url of your translated voice-->\n",
      " ['https://translate.google.com/translate_tts?ie=UTF-8&q=hii+%E0%A4%86%E0%A4%AA+%E0%A4%95%E0%A5%88%E0%A4%B8%E0%A5%87+%E0%A4%B9%E0%A5%88%E0%A4%82+%E0%A4%89%E0%A4%AE%E0%A5%8D%E0%A4%AE%E0%A5%80%E0%A4%A6+%E0%A4%B9%E0%A5%88+%E0%A4%95%E0%A4%BF+%E0%A4%86%E0%A4%AA+%E0%A4%85%E0%A4%9A%E0%A5%8D%E0%A4%9B%E0%A4%BE+%E0%A4%95%E0%A4%B0+%E0%A4%B0%E0%A4%B9%E0%A5%87+%E0%A4%B9%E0%A5%88%E0%A4%82&tl=hi&ttsspeed=1&total=1&idx=0&client=tw-ob&textlen=48&tk=554177.963521']\n"
     ]
    }
   ],
   "source": [
    "txt=str(input(\"Enter you text:\"))\n",
    "lan=str(input(\"Enter the language code to which you want the translate the text e.g.:- \\n'hi': Hindi\\n'es': Spanish\\n'fr': French\\n'gu': Gujarati\\n'te': Telugu\\n'kn': Kannada\\n'en': English\\nYou want to translate your text to:\"))\n",
    "translator = Translator()\n",
    "translation = translator.translate(txt, dest=lan)\n",
    "d=translator.detect(txt)\n",
    "print(\"\\nYour Enter text Language code is:\", d.lang)\n",
    "print(\"Confidence:\", (d.confidence)*100,\"%\")\n",
    "print(\"\\nYour text after translation:\",translation.text)\n",
    "x=translation.text\n",
    "voice=gTTS(text=x, lang=lan, slow=False) \n",
    "print(\"\\nUrl of your translated voice-->\\n\",voice.get_urls())\n",
    "voice.save(\"Translated Audio.mp3\") "
   ]
  },
  {
   "cell_type": "code",
   "execution_count": null,
   "metadata": {},
   "outputs": [],
   "source": []
  }
 ],
 "metadata": {
  "kernelspec": {
   "display_name": "Python 3",
   "language": "python",
   "name": "python3"
  },
  "language_info": {
   "codemirror_mode": {
    "name": "ipython",
    "version": 3
   },
   "file_extension": ".py",
   "mimetype": "text/x-python",
   "name": "python",
   "nbconvert_exporter": "python",
   "pygments_lexer": "ipython3",
   "version": "3.7.3"
  }
 },
 "nbformat": 4,
 "nbformat_minor": 2
}
