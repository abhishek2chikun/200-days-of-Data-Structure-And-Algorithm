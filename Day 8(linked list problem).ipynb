{
 "cells": [
  {
   "cell_type": "code",
   "execution_count": 5,
   "metadata": {},
   "outputs": [],
   "source": [
    "class node:\n",
    "    def __init__(self,data):\n",
    "        self.data=data\n",
    "        self.next=None\n",
    "class linkedlist:\n",
    "    def __init__(self,head=None):\n",
    "        self.head=None\n",
    "    def traverse(self):\n",
    "        temp=self.head\n",
    "        while(temp):\n",
    "            print(temp.data)\n",
    "            temp=temp.next\n",
    "l=linkedlist()\n",
    "l.head=node(10)\n",
    "a=node(20)\n",
    "b=node(30)\n",
    "c=node(40)\n",
    "l.head.next=a\n",
    "a.next=b\n",
    "b.next=c"
   ]
  },
  {
   "cell_type": "markdown",
   "metadata": {},
   "source": [
    "# Problems(Linked List)"
   ]
  },
  {
   "cell_type": "markdown",
   "metadata": {},
   "source": [
    "## 1.Count nodes of linked list\n",
    "Given a singly linked list. The task is to find the length of the linked list, where length is defined as the number of nodes in the linked list.\n",
    "\n",
    "Example 1:\n",
    "\n",
    "Input:\n",
    "                            LinkedList: 1->2->3->4->5                            \n",
    "                            \n",
    "                            \n",
    "Output: 5\n",
    "\n",
    "\n",
    "Explanation: Count of nodes in the \n",
    "linked list is 5, which is its length."
   ]
  },
  {
   "cell_type": "markdown",
   "metadata": {},
   "source": [
    "#### Iteration approch"
   ]
  },
  {
   "cell_type": "code",
   "execution_count": 4,
   "metadata": {},
   "outputs": [],
   "source": [
    "def getCount(head_node):\n",
    "    temp=head_node\n",
    "    c=0\n",
    "    while(temp):\n",
    "        c+=1\n",
    "        temp=temp.next\n",
    "    return c"
   ]
  },
  {
   "cell_type": "code",
   "execution_count": 6,
   "metadata": {},
   "outputs": [
    {
     "name": "stdout",
     "output_type": "stream",
     "text": [
      "10\n",
      "20\n",
      "30\n",
      "40\n"
     ]
    }
   ],
   "source": [
    "l.traverse()"
   ]
  },
  {
   "cell_type": "code",
   "execution_count": 7,
   "metadata": {},
   "outputs": [
    {
     "name": "stdout",
     "output_type": "stream",
     "text": [
      "4\n"
     ]
    }
   ],
   "source": [
    "print(getCount(l.head))"
   ]
  },
  {
   "cell_type": "markdown",
   "metadata": {},
   "source": [
    "#### Recursion approch"
   ]
  },
  {
   "cell_type": "code",
   "execution_count": 11,
   "metadata": {},
   "outputs": [
    {
     "name": "stdout",
     "output_type": "stream",
     "text": [
      "4\n"
     ]
    }
   ],
   "source": [
    "def getCountrec(head_node):\n",
    "    if head_node==None:\n",
    "        return 0\n",
    "    else:\n",
    "        return 1 + getCountrec(head_node.next)\n",
    "print(getCountrec(l.head))"
   ]
  }
 ],
 "metadata": {
  "kernelspec": {
   "display_name": "Python 3",
   "language": "python",
   "name": "python3"
  },
  "language_info": {
   "codemirror_mode": {
    "name": "ipython",
    "version": 3
   },
   "file_extension": ".py",
   "mimetype": "text/x-python",
   "name": "python",
   "nbconvert_exporter": "python",
   "pygments_lexer": "ipython3",
   "version": "3.7.3"
  }
 },
 "nbformat": 4,
 "nbformat_minor": 2
}
