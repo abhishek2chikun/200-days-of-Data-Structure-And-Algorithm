{
 "cells": [
  {
   "cell_type": "markdown",
   "metadata": {},
   "source": [
    "# Linked List"
   ]
  },
  {
   "cell_type": "markdown",
   "metadata": {},
   "source": [
    "### Creation of Node class and Linked List class\n"
   ]
  },
  {
   "cell_type": "code",
   "execution_count": 5,
   "metadata": {},
   "outputs": [],
   "source": [
    "# Node class \n",
    "class Node:    \n",
    "    # Function to initialize the node object \n",
    "    def __init__(self, data): \n",
    "        self.data = data  # Assign data \n",
    "        self.next = None  # Initialize  \n",
    "                          # next as null \n",
    "   \n",
    "# Linked List class \n",
    "class LinkedList: \n",
    "     \n",
    "    # Function to initialize the Linked  \n",
    "    # List object \n",
    "    def __init__(self):  \n",
    "        self.head = None\n",
    "    # This function prints contents of linked list \n",
    "    # starting from head \n",
    "    def printList(self): \n",
    "        temp = self.head \n",
    "        while (temp): \n",
    "            print (temp.data) \n",
    "            temp = temp.next"
   ]
  },
  {
   "cell_type": "markdown",
   "metadata": {},
   "source": [
    "### Create a simple linked list with 3 nodes."
   ]
  },
  {
   "cell_type": "code",
   "execution_count": 7,
   "metadata": {},
   "outputs": [],
   "source": [
    "llist = LinkedList()\n",
    "# Assign item values\n",
    "llist.head = Node(1)\n",
    "second = Node(2)\n",
    "third = Node(3)"
   ]
  },
  {
   "cell_type": "markdown",
   "metadata": {},
   "source": [
    "###### '''\n",
    "    Three nodes have been created. \n",
    "    We have references to these three blocks as head, \n",
    "    second and third \n",
    "      llist.head        second              third \n",
    "         |                |                  | \n",
    "         |                |                  | \n",
    "    +----+------+     +----+------+     +----+------+ \n",
    "    | 1  | None |     | 2  | None |     |  3 | None | \n",
    "    +----+------+     +----+------+     +----+------+ \n",
    "'''"
   ]
  },
  {
   "cell_type": "code",
   "execution_count": 8,
   "metadata": {},
   "outputs": [],
   "source": [
    "# Connect nodes\n",
    "linked_list.head.next = second"
   ]
  },
  {
   "cell_type": "markdown",
   "metadata": {},
   "source": [
    "###### ''' \n",
    "    Now next of first Node refers to second.  So they \n",
    "    both are linked.   \n",
    "    llist.head        second              third \n",
    "         |                |                  | \n",
    "         |                |                  | \n",
    "    +----+------+     +----+------+     +----+------+ \n",
    "    | 1  |  o-------->| 2  | null |     |  3 | null | \n",
    "    +----+------+     +----+------+     +----+------+  \n",
    "    '''"
   ]
  },
  {
   "cell_type": "code",
   "execution_count": 9,
   "metadata": {},
   "outputs": [],
   "source": [
    "second.next = third"
   ]
  },
  {
   "cell_type": "markdown",
   "metadata": {},
   "source": [
    "###### ''' \n",
    "    Now next of second Node refers to third.  So all three \n",
    "    nodes are linked.   \n",
    "    llist.head        second              third \n",
    "         |                |                  | \n",
    "         |                |                  | \n",
    "    +----+------+     +----+------+     +----+------+ \n",
    "    | 1  |  o-------->| 2  |  o-------->|  3 | null | \n",
    "    +----+------+     +----+------+     +----+------+  \n",
    "    '''"
   ]
  },
  {
   "cell_type": "code",
   "execution_count": 10,
   "metadata": {},
   "outputs": [
    {
     "name": "stdout",
     "output_type": "stream",
     "text": [
      "1\n",
      "2\n",
      "3\n"
     ]
    }
   ],
   "source": [
    "linked_list.printList()#For printing of linked_list"
   ]
  },
  {
   "cell_type": "markdown",
   "metadata": {},
   "source": [
    "# Problems\n"
   ]
  },
  {
   "cell_type": "markdown",
   "metadata": {},
   "source": [
    "## Jadoo vs Koba\n",
    "Jadoo, the space alien has challenged Koba to a friendly duel. He asks Koba to write a program to print out all numbers from 70 to 80. Knowing perfectly well how easy the problem is, the Jadoo adds his own twist to the challenge. He asks Koba to write the program without using a single number in his program and also restricts the character limit to 100."
   ]
  },
  {
   "cell_type": "code",
   "execution_count": 13,
   "metadata": {},
   "outputs": [
    {
     "name": "stdout",
     "output_type": "stream",
     "text": [
      "70\n",
      "71\n",
      "72\n",
      "73\n",
      "74\n",
      "75\n",
      "76\n",
      "77\n",
      "78\n",
      "79\n",
      "80\n"
     ]
    },
    {
     "data": {
      "text/plain": [
       "[None, None, None, None, None, None, None, None, None, None, None]"
      ]
     },
     "execution_count": 13,
     "metadata": {},
     "output_type": "execute_result"
    }
   ],
   "source": [
    "[print(i) for i in range(ord('F'),ord('Q'))]#None will not show in other id"
   ]
  }
 ],
 "metadata": {
  "kernelspec": {
   "display_name": "Python 3",
   "language": "python",
   "name": "python3"
  },
  "language_info": {
   "codemirror_mode": {
    "name": "ipython",
    "version": 3
   },
   "file_extension": ".py",
   "mimetype": "text/x-python",
   "name": "python",
   "nbconvert_exporter": "python",
   "pygments_lexer": "ipython3",
   "version": "3.7.3"
  }
 },
 "nbformat": 4,
 "nbformat_minor": 2
}
