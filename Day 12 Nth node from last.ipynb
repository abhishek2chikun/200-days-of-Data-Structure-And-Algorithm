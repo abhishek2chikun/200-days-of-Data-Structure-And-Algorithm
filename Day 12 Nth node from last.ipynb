{
 "cells": [
  {
   "cell_type": "code",
   "execution_count": 7,
   "metadata": {},
   "outputs": [],
   "source": [
    "class node:\n",
    "    def __init__(self,val=None,Next=None):\n",
    "        self.val=val\n",
    "        self.next=Next\n",
    "    def printl(self):\n",
    "        node=self\n",
    "        while node is not None:\n",
    "            print(node.val,end=\"->\")\n",
    "            node=node.next"
   ]
  },
  {
   "cell_type": "code",
   "execution_count": 8,
   "metadata": {},
   "outputs": [],
   "source": [
    "def push(head,new):\n",
    "    head=node(new,head)\n",
    "    return head"
   ]
  },
  {
   "cell_type": "code",
   "execution_count": 9,
   "metadata": {},
   "outputs": [
    {
     "name": "stdout",
     "output_type": "stream",
     "text": [
      "0->1->2->3->4->5->6->7->8->"
     ]
    }
   ],
   "source": [
    "head=None\n",
    "for i in range(9)[::-1]:\n",
    "    head=push(head,i)\n",
    "head.printl()"
   ]
  },
  {
   "cell_type": "markdown",
   "metadata": {},
   "source": [
    "## Delete Nth node from the last Node"
   ]
  },
  {
   "cell_type": "code",
   "execution_count": 10,
   "metadata": {},
   "outputs": [],
   "source": [
    "def delnnode(head,n):\n",
    "    counter=1\n",
    "    s=head\n",
    "    f=head\n",
    "    while counter<=n:\n",
    "        s=s.next\n",
    "        counter+=1\n",
    "    if s is None:\n",
    "        head.next=head.next.next\n",
    "        return \n",
    "    while s.next is not None:\n",
    "        f=f.next\n",
    "        s=s.next\n",
    "    f.next=f.next.next"
   ]
  },
  {
   "cell_type": "code",
   "execution_count": 11,
   "metadata": {},
   "outputs": [
    {
     "name": "stdout",
     "output_type": "stream",
     "text": [
      "0->1->2->3->4->5->6->7->8->Linked list before deletion None\n"
     ]
    }
   ],
   "source": [
    "print(\"Linked list before deletion\",head.printl())"
   ]
  },
  {
   "cell_type": "code",
   "execution_count": 12,
   "metadata": {},
   "outputs": [
    {
     "name": "stdout",
     "output_type": "stream",
     "text": [
      "0->1->2->3->4->5->7->8->Linked list before deletion None\n"
     ]
    }
   ],
   "source": [
    "delnnode(head,3)#Calling the function\n",
    "print(\"Linked list before deletion\",head.printl())"
   ]
  }
 ],
 "metadata": {
  "kernelspec": {
   "display_name": "Python 3",
   "language": "python",
   "name": "python3"
  },
  "language_info": {
   "codemirror_mode": {
    "name": "ipython",
    "version": 3
   },
   "file_extension": ".py",
   "mimetype": "text/x-python",
   "name": "python",
   "nbconvert_exporter": "python",
   "pygments_lexer": "ipython3",
   "version": "3.7.3"
  }
 },
 "nbformat": 4,
 "nbformat_minor": 2
}
